{
  "nbformat": 4,
  "nbformat_minor": 0,
  "metadata": {
    "colab": {
      "provenance": [],
      "machine_shape": "hm"
    },
    "kernelspec": {
      "name": "python3",
      "display_name": "Python 3"
    },
    "language_info": {
      "name": "python"
    },
    "accelerator": "GPU",
    "gpuClass": "standard"
  },
  "cells": [
    {
      "cell_type": "code",
      "execution_count": 1,
      "metadata": {
        "colab": {
          "base_uri": "https://localhost:8080/"
        },
        "id": "i1BmHqrKjr3H",
        "outputId": "2113b1c3-4bc8-49fb-a2b8-b7144eca567d"
      },
      "outputs": [
        {
          "output_type": "stream",
          "name": "stdout",
          "text": [
            "Thu Mar 16 23:08:49 2023       \n",
            "+-----------------------------------------------------------------------------+\n",
            "| NVIDIA-SMI 525.85.12    Driver Version: 525.85.12    CUDA Version: 12.0     |\n",
            "|-------------------------------+----------------------+----------------------+\n",
            "| GPU  Name        Persistence-M| Bus-Id        Disp.A | Volatile Uncorr. ECC |\n",
            "| Fan  Temp  Perf  Pwr:Usage/Cap|         Memory-Usage | GPU-Util  Compute M. |\n",
            "|                               |                      |               MIG M. |\n",
            "|===============================+======================+======================|\n",
            "|   0  Tesla T4            Off  | 00000000:00:04.0 Off |                    0 |\n",
            "| N/A   56C    P0    28W /  70W |      0MiB / 15360MiB |      0%      Default |\n",
            "|                               |                      |                  N/A |\n",
            "+-------------------------------+----------------------+----------------------+\n",
            "                                                                               \n",
            "+-----------------------------------------------------------------------------+\n",
            "| Processes:                                                                  |\n",
            "|  GPU   GI   CI        PID   Type   Process name                  GPU Memory |\n",
            "|        ID   ID                                                   Usage      |\n",
            "|=============================================================================|\n",
            "|  No running processes found                                                 |\n",
            "+-----------------------------------------------------------------------------+\n"
          ]
        }
      ],
      "source": [
        "# 初期設定において、Google Colabで使用されているGPUやPython、PyTorchの情報を確認します\n",
        "\n",
        "!nvidia-smi"
      ]
    },
    {
      "cell_type": "code",
      "source": [
        "!nvcc -V"
      ],
      "metadata": {
        "colab": {
          "base_uri": "https://localhost:8080/"
        },
        "id": "df8A8LI6kDr3",
        "outputId": "b06f1930-35ad-4370-bcc5-4d6342bd4c7e"
      },
      "execution_count": 2,
      "outputs": [
        {
          "output_type": "stream",
          "name": "stdout",
          "text": [
            "nvcc: NVIDIA (R) Cuda compiler driver\n",
            "Copyright (c) 2005-2022 NVIDIA Corporation\n",
            "Built on Wed_Sep_21_10:33:58_PDT_2022\n",
            "Cuda compilation tools, release 11.8, V11.8.89\n",
            "Build cuda_11.8.r11.8/compiler.31833905_0\n"
          ]
        }
      ]
    },
    {
      "cell_type": "code",
      "source": [
        "import sys\n",
        "import torch\n",
        "\n",
        "\n",
        "# -----------------------------\n",
        "# 環境情報の確認\n",
        "# -----------------------------\n",
        "def print_program_info():\n",
        "    print(\"Pythonのバージョン：\", sys.version)\n",
        "    print(\"---------\")\n",
        "    print(\"PyTorchのバージョン：\", \n",
        "    torch.__version__)\n",
        "    print(\"GPUの枚数：\", torch.cuda.device_count())\n",
        "    global device  # 変数deviceは以降もプログラム本体で使用するのでglobal変数にしています\n",
        "    device = torch.device(\"cuda:0\" if torch.cuda.is_available() else \"cpu\")\n",
        "    print(\"device: \", device) \n",
        "\n",
        "\n",
        "# 【実行】確認\n",
        "print_program_info()"
      ],
      "metadata": {
        "colab": {
          "base_uri": "https://localhost:8080/"
        },
        "id": "sqR42kJnkFlI",
        "outputId": "05674349-7ebc-45cb-f87b-f8fc2ef1c543"
      },
      "execution_count": 3,
      "outputs": [
        {
          "output_type": "stream",
          "name": "stdout",
          "text": [
            "Pythonのバージョン： 3.9.16 (main, Dec  7 2022, 01:11:51) \n",
            "[GCC 9.4.0]\n",
            "---------\n",
            "PyTorchのバージョン： 1.13.1+cu116\n",
            "GPUの枚数： 1\n",
            "device:  cuda:0\n"
          ]
        }
      ]
    },
    {
      "cell_type": "markdown",
      "source": [
        "---\n",
        "\n",
        "初期状態では、\n",
        "\n",
        "GPUはTesla T4 で、1枚。\n",
        "\n",
        "Pythonのバージョンは3.9\n",
        "\n",
        "PyTorchのバージョンは 1.13.1+cu116 です\n",
        "\n",
        "\n",
        "!nvcc -Vでの結果より、cudaは11.8です"
      ],
      "metadata": {
        "id": "_H4ooWyCkd_0"
      }
    },
    {
      "cell_type": "code",
      "source": [
        "# PyTorch1系には存在しない関数・クラスを使用してみます\n",
        "\n",
        "import torch\n",
        "\n",
        "def foo(x, y):\n",
        "    a = torch.sin(x)\n",
        "    b = torch.cos(x)\n",
        "    return a + b\n",
        "opt_foo1 = torch.compile(foo)\n",
        "print(opt_foo1(torch.randn(10, 10), torch.randn(10, 10)))\n"
      ],
      "metadata": {
        "colab": {
          "base_uri": "https://localhost:8080/",
          "height": 229
        },
        "id": "odGKH8R-rlEE",
        "outputId": "b3bacba8-ed22-4ad0-ce89-33f17b0d2daf"
      },
      "execution_count": 4,
      "outputs": [
        {
          "output_type": "error",
          "ename": "AttributeError",
          "evalue": "ignored",
          "traceback": [
            "\u001b[0;31m---------------------------------------------------------------------------\u001b[0m",
            "\u001b[0;31mAttributeError\u001b[0m                            Traceback (most recent call last)",
            "\u001b[0;32m<ipython-input-4-795ba0c02672>\u001b[0m in \u001b[0;36m<module>\u001b[0;34m\u001b[0m\n\u001b[1;32m      7\u001b[0m     \u001b[0mb\u001b[0m \u001b[0;34m=\u001b[0m \u001b[0mtorch\u001b[0m\u001b[0;34m.\u001b[0m\u001b[0mcos\u001b[0m\u001b[0;34m(\u001b[0m\u001b[0mx\u001b[0m\u001b[0;34m)\u001b[0m\u001b[0;34m\u001b[0m\u001b[0;34m\u001b[0m\u001b[0m\n\u001b[1;32m      8\u001b[0m     \u001b[0;32mreturn\u001b[0m \u001b[0ma\u001b[0m \u001b[0;34m+\u001b[0m \u001b[0mb\u001b[0m\u001b[0;34m\u001b[0m\u001b[0;34m\u001b[0m\u001b[0m\n\u001b[0;32m----> 9\u001b[0;31m \u001b[0mopt_foo1\u001b[0m \u001b[0;34m=\u001b[0m \u001b[0mtorch\u001b[0m\u001b[0;34m.\u001b[0m\u001b[0mcompile\u001b[0m\u001b[0;34m(\u001b[0m\u001b[0mfoo\u001b[0m\u001b[0;34m)\u001b[0m\u001b[0;34m\u001b[0m\u001b[0;34m\u001b[0m\u001b[0m\n\u001b[0m\u001b[1;32m     10\u001b[0m \u001b[0mprint\u001b[0m\u001b[0;34m(\u001b[0m\u001b[0mopt_foo1\u001b[0m\u001b[0;34m(\u001b[0m\u001b[0mtorch\u001b[0m\u001b[0;34m.\u001b[0m\u001b[0mrandn\u001b[0m\u001b[0;34m(\u001b[0m\u001b[0;36m10\u001b[0m\u001b[0;34m,\u001b[0m \u001b[0;36m10\u001b[0m\u001b[0;34m)\u001b[0m\u001b[0;34m,\u001b[0m \u001b[0mtorch\u001b[0m\u001b[0;34m.\u001b[0m\u001b[0mrandn\u001b[0m\u001b[0;34m(\u001b[0m\u001b[0;36m10\u001b[0m\u001b[0;34m,\u001b[0m \u001b[0;36m10\u001b[0m\u001b[0;34m)\u001b[0m\u001b[0;34m)\u001b[0m\u001b[0;34m)\u001b[0m\u001b[0;34m\u001b[0m\u001b[0;34m\u001b[0m\u001b[0m\n",
            "\u001b[0;31mAttributeError\u001b[0m: module 'torch' has no attribute 'compile'"
          ]
        }
      ]
    },
    {
      "cell_type": "markdown",
      "source": [
        "PyTorchのバージョンが1.13なので、予想通り、動作しませんでした\n",
        "\n"
      ],
      "metadata": {
        "id": "DHa5AgaOrty9"
      }
    },
    {
      "cell_type": "markdown",
      "source": [
        "# PyTorch 2.0へ"
      ],
      "metadata": {
        "id": "z5r260s9lD_s"
      }
    },
    {
      "cell_type": "markdown",
      "source": [
        "解説\n",
        "\n",
        "https://pytorch.org/blog/pytorch-2.0-release/"
      ],
      "metadata": {
        "id": "4P4yKMC4lGyr"
      }
    },
    {
      "cell_type": "markdown",
      "source": [
        "https://pytorch.org/\n",
        "\n",
        "https://pytorch.org/get-started/pytorch-2.0/"
      ],
      "metadata": {
        "id": "c4NPPT_pln9i"
      }
    },
    {
      "cell_type": "markdown",
      "source": [
        "![image.png](data:image/png;base64,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)"
      ],
      "metadata": {
        "id": "-TEZfkSYllKh"
      }
    },
    {
      "cell_type": "code",
      "source": [
        "# pipのキャシュをクリアします\n",
        "!pip3 cache purge\n"
      ],
      "metadata": {
        "colab": {
          "base_uri": "https://localhost:8080/"
        },
        "id": "KD9cAeSrr9os",
        "outputId": "5dad526c-367f-4720-bbd1-76bdf2e69201"
      },
      "execution_count": 6,
      "outputs": [
        {
          "output_type": "stream",
          "name": "stdout",
          "text": [
            "\u001b[33mWARNING: No matching packages\u001b[0m\u001b[33m\n",
            "\u001b[0mFiles removed: 0\n"
          ]
        }
      ]
    },
    {
      "cell_type": "markdown",
      "source": [
        "指定されたコマンドは\n",
        "\n",
        "```pip3 install torch torchvision torchaudio --index-url https://download.pytorch.org/whl/cu118```\n",
        "\n",
        "ですが、--force-reinstallをつけます（これがないとPyTorchの1.13がインストールされてしまいます。Colab環境では事前に1.13がインストールされているので、それを再度とってきてしまう）\n",
        "\n"
      ],
      "metadata": {
        "id": "mZ4XMucosqNC"
      }
    },
    {
      "cell_type": "code",
      "source": [
        "!pip3 install torch torchvision torchaudio --force-reinstall --index-url https://download.pytorch.org/whl/cu118"
      ],
      "metadata": {
        "colab": {
          "base_uri": "https://localhost:8080/"
        },
        "id": "x01uHL5llF8Y",
        "outputId": "49ff8ad2-feea-43e1-bc9d-f3388d1aa31f"
      },
      "execution_count": 10,
      "outputs": [
        {
          "output_type": "stream",
          "name": "stdout",
          "text": [
            "Looking in indexes: https://download.pytorch.org/whl/cu118, https://us-python.pkg.dev/colab-wheels/public/simple/\n",
            "Collecting torch\n",
            "  Downloading https://download.pytorch.org/whl/cu118/torch-2.0.0%2Bcu118-cp39-cp39-linux_x86_64.whl (2267.3 MB)\n",
            "\u001b[2K     \u001b[90m━━━━━━━━━━━━━━━━━━━━━━━━━━━━━━━━━━━━━━━━\u001b[0m \u001b[32m2.3/2.3 GB\u001b[0m \u001b[31m983.3 kB/s\u001b[0m eta \u001b[36m0:00:00\u001b[0m\n",
            "\u001b[?25hCollecting torchvision\n",
            "  Downloading https://download.pytorch.org/whl/cu118/torchvision-0.15.1%2Bcu118-cp39-cp39-linux_x86_64.whl (6.1 MB)\n",
            "\u001b[2K     \u001b[90m━━━━━━━━━━━━━━━━━━━━━━━━━━━━━━━━━━━━━━━━\u001b[0m \u001b[32m6.1/6.1 MB\u001b[0m \u001b[31m67.8 MB/s\u001b[0m eta \u001b[36m0:00:00\u001b[0m\n",
            "\u001b[?25hCollecting torchaudio\n",
            "  Downloading https://download.pytorch.org/whl/cu118/torchaudio-2.0.1%2Bcu118-cp39-cp39-linux_x86_64.whl (4.4 MB)\n",
            "\u001b[2K     \u001b[90m━━━━━━━━━━━━━━━━━━━━━━━━━━━━━━━━━━━━━━━━\u001b[0m \u001b[32m4.4/4.4 MB\u001b[0m \u001b[31m65.4 MB/s\u001b[0m eta \u001b[36m0:00:00\u001b[0m\n",
            "\u001b[?25hCollecting sympy\n",
            "  Downloading https://download.pytorch.org/whl/sympy-1.11.1-py3-none-any.whl (6.5 MB)\n",
            "\u001b[2K     \u001b[90m━━━━━━━━━━━━━━━━━━━━━━━━━━━━━━━━━━━━━━━━\u001b[0m \u001b[32m6.5/6.5 MB\u001b[0m \u001b[31m107.2 MB/s\u001b[0m eta \u001b[36m0:00:00\u001b[0m\n",
            "\u001b[?25hCollecting filelock\n",
            "  Downloading https://download.pytorch.org/whl/filelock-3.9.0-py3-none-any.whl (9.7 kB)\n",
            "Collecting networkx\n",
            "  Downloading https://download.pytorch.org/whl/networkx-3.0-py3-none-any.whl (2.0 MB)\n",
            "\u001b[2K     \u001b[90m━━━━━━━━━━━━━━━━━━━━━━━━━━━━━━━━━━━━━━━━\u001b[0m \u001b[32m2.0/2.0 MB\u001b[0m \u001b[31m92.4 MB/s\u001b[0m eta \u001b[36m0:00:00\u001b[0m\n",
            "\u001b[?25hCollecting triton==2.0.0\n",
            "  Downloading https://download.pytorch.org/whl/triton-2.0.0-cp39-cp39-manylinux_2_17_x86_64.manylinux2014_x86_64.whl (63.3 MB)\n",
            "\u001b[2K     \u001b[90m━━━━━━━━━━━━━━━━━━━━━━━━━━━━━━━━━━━━━━━━\u001b[0m \u001b[32m63.3/63.3 MB\u001b[0m \u001b[31m25.0 MB/s\u001b[0m eta \u001b[36m0:00:00\u001b[0m\n",
            "\u001b[?25hCollecting typing-extensions\n",
            "  Downloading https://download.pytorch.org/whl/typing_extensions-4.4.0-py3-none-any.whl (26 kB)\n",
            "Collecting jinja2\n",
            "  Downloading https://download.pytorch.org/whl/Jinja2-3.1.2-py3-none-any.whl (133 kB)\n",
            "\u001b[2K     \u001b[90m━━━━━━━━━━━━━━━━━━━━━━━━━━━━━━━━━━━━━━\u001b[0m \u001b[32m133.1/133.1 KB\u001b[0m \u001b[31m18.3 MB/s\u001b[0m eta \u001b[36m0:00:00\u001b[0m\n",
            "\u001b[?25hCollecting cmake\n",
            "  Downloading https://download.pytorch.org/whl/cmake-3.25.0-py2.py3-none-manylinux_2_17_x86_64.manylinux2014_x86_64.whl (23.7 MB)\n",
            "\u001b[2K     \u001b[90m━━━━━━━━━━━━━━━━━━━━━━━━━━━━━━━━━━━━━━━━\u001b[0m \u001b[32m23.7/23.7 MB\u001b[0m \u001b[31m49.8 MB/s\u001b[0m eta \u001b[36m0:00:00\u001b[0m\n",
            "\u001b[?25hCollecting lit\n",
            "  Downloading https://download.pytorch.org/whl/lit-15.0.7.tar.gz (132 kB)\n",
            "\u001b[2K     \u001b[90m━━━━━━━━━━━━━━━━━━━━━━━━━━━━━━━━━━━━━━\u001b[0m \u001b[32m132.3/132.3 KB\u001b[0m \u001b[31m18.4 MB/s\u001b[0m eta \u001b[36m0:00:00\u001b[0m\n",
            "\u001b[?25h  Preparing metadata (setup.py) ... \u001b[?25l\u001b[?25hdone\n",
            "Collecting pillow!=8.3.*,>=5.3.0\n",
            "  Downloading https://download.pytorch.org/whl/Pillow-9.3.0-cp39-cp39-manylinux_2_17_x86_64.manylinux2014_x86_64.whl (3.2 MB)\n",
            "\u001b[2K     \u001b[90m━━━━━━━━━━━━━━━━━━━━━━━━━━━━━━━━━━━━━━━━\u001b[0m \u001b[32m3.2/3.2 MB\u001b[0m \u001b[31m55.1 MB/s\u001b[0m eta \u001b[36m0:00:00\u001b[0m\n",
            "\u001b[?25hCollecting numpy\n",
            "  Downloading https://download.pytorch.org/whl/numpy-1.24.1-cp39-cp39-manylinux_2_17_x86_64.manylinux2014_x86_64.whl (17.3 MB)\n",
            "\u001b[2K     \u001b[90m━━━━━━━━━━━━━━━━━━━━━━━━━━━━━━━━━━━━━━━━\u001b[0m \u001b[32m17.3/17.3 MB\u001b[0m \u001b[31m56.8 MB/s\u001b[0m eta \u001b[36m0:00:00\u001b[0m\n",
            "\u001b[?25hCollecting requests\n",
            "  Downloading https://download.pytorch.org/whl/requests-2.28.1-py3-none-any.whl (62 kB)\n",
            "\u001b[2K     \u001b[90m━━━━━━━━━━━━━━━━━━━━━━━━━━━━━━━━━━━━━━━━\u001b[0m \u001b[32m62.8/62.8 KB\u001b[0m \u001b[31m9.6 MB/s\u001b[0m eta \u001b[36m0:00:00\u001b[0m\n",
            "\u001b[?25hCollecting MarkupSafe>=2.0\n",
            "  Downloading https://download.pytorch.org/whl/MarkupSafe-2.1.2-cp39-cp39-manylinux_2_17_x86_64.manylinux2014_x86_64.whl (25 kB)\n",
            "Collecting idna<4,>=2.5\n",
            "  Downloading https://download.pytorch.org/whl/idna-3.4-py3-none-any.whl (61 kB)\n",
            "\u001b[2K     \u001b[90m━━━━━━━━━━━━━━━━━━━━━━━━━━━━━━━━━━━━━━━━\u001b[0m \u001b[32m61.5/61.5 KB\u001b[0m \u001b[31m8.0 MB/s\u001b[0m eta \u001b[36m0:00:00\u001b[0m\n",
            "\u001b[?25hCollecting charset-normalizer<3,>=2\n",
            "  Downloading https://download.pytorch.org/whl/charset_normalizer-2.1.1-py3-none-any.whl (39 kB)\n",
            "Collecting certifi>=2017.4.17\n",
            "  Downloading https://download.pytorch.org/whl/certifi-2022.12.7-py3-none-any.whl (155 kB)\n",
            "\u001b[2K     \u001b[90m━━━━━━━━━━━━━━━━━━━━━━━━━━━━━━━━━━━━━━\u001b[0m \u001b[32m155.3/155.3 KB\u001b[0m \u001b[31m21.8 MB/s\u001b[0m eta \u001b[36m0:00:00\u001b[0m\n",
            "\u001b[?25hCollecting urllib3<1.27,>=1.21.1\n",
            "  Downloading https://download.pytorch.org/whl/urllib3-1.26.13-py2.py3-none-any.whl (140 kB)\n",
            "\u001b[2K     \u001b[90m━━━━━━━━━━━━━━━━━━━━━━━━━━━━━━━━━━━━━━\u001b[0m \u001b[32m140.6/140.6 KB\u001b[0m \u001b[31m18.5 MB/s\u001b[0m eta \u001b[36m0:00:00\u001b[0m\n",
            "\u001b[?25hCollecting mpmath>=0.19\n",
            "  Downloading https://download.pytorch.org/whl/mpmath-1.2.1-py3-none-any.whl (532 kB)\n",
            "\u001b[2K     \u001b[90m━━━━━━━━━━━━━━━━━━━━━━━━━━━━━━━━━━━━━━\u001b[0m \u001b[32m532.6/532.6 KB\u001b[0m \u001b[31m44.3 MB/s\u001b[0m eta \u001b[36m0:00:00\u001b[0m\n",
            "\u001b[?25hBuilding wheels for collected packages: lit\n",
            "  Building wheel for lit (setup.py) ... \u001b[?25l\u001b[?25hdone\n",
            "  Created wheel for lit: filename=lit-15.0.7-py3-none-any.whl size=90003 sha256=239b6a08bc473d3024f944a5e146abdf0b884cfa40fe8cf18534d68eccae28a0\n",
            "  Stored in directory: /root/.cache/pip/wheels/77/9f/9c/1c3217c66e9f310f11a534c68e168a295d9448999af79d680b\n",
            "Successfully built lit\n",
            "Installing collected packages: mpmath, lit, cmake, urllib3, typing-extensions, sympy, pillow, numpy, networkx, MarkupSafe, idna, filelock, charset-normalizer, certifi, requests, jinja2, triton, torch, torchvision, torchaudio\n",
            "  Attempting uninstall: mpmath\n",
            "    Found existing installation: mpmath 1.3.0\n",
            "    Uninstalling mpmath-1.3.0:\n",
            "      Successfully uninstalled mpmath-1.3.0\n",
            "  Attempting uninstall: cmake\n",
            "    Found existing installation: cmake 3.22.6\n",
            "    Uninstalling cmake-3.22.6:\n",
            "      Successfully uninstalled cmake-3.22.6\n",
            "  Attempting uninstall: urllib3\n",
            "    Found existing installation: urllib3 1.26.15\n",
            "    Uninstalling urllib3-1.26.15:\n",
            "      Successfully uninstalled urllib3-1.26.15\n",
            "  Attempting uninstall: typing-extensions\n",
            "    Found existing installation: typing_extensions 4.5.0\n",
            "    Uninstalling typing_extensions-4.5.0:\n",
            "      Successfully uninstalled typing_extensions-4.5.0\n",
            "  Attempting uninstall: sympy\n",
            "    Found existing installation: sympy 1.7.1\n",
            "    Uninstalling sympy-1.7.1:\n",
            "      Successfully uninstalled sympy-1.7.1\n",
            "  Attempting uninstall: pillow\n",
            "    Found existing installation: Pillow 8.4.0\n",
            "    Uninstalling Pillow-8.4.0:\n",
            "      Successfully uninstalled Pillow-8.4.0\n",
            "  Attempting uninstall: numpy\n",
            "    Found existing installation: numpy 1.22.4\n",
            "    Uninstalling numpy-1.22.4:\n",
            "      Successfully uninstalled numpy-1.22.4\n",
            "  Attempting uninstall: networkx\n",
            "    Found existing installation: networkx 3.0\n",
            "    Uninstalling networkx-3.0:\n",
            "      Successfully uninstalled networkx-3.0\n",
            "  Attempting uninstall: MarkupSafe\n",
            "    Found existing installation: MarkupSafe 2.1.2\n",
            "    Uninstalling MarkupSafe-2.1.2:\n",
            "      Successfully uninstalled MarkupSafe-2.1.2\n",
            "  Attempting uninstall: idna\n",
            "    Found existing installation: idna 2.10\n",
            "    Uninstalling idna-2.10:\n",
            "      Successfully uninstalled idna-2.10\n",
            "  Attempting uninstall: filelock\n",
            "    Found existing installation: filelock 3.9.1\n",
            "    Uninstalling filelock-3.9.1:\n",
            "      Successfully uninstalled filelock-3.9.1\n",
            "  Attempting uninstall: certifi\n",
            "    Found existing installation: certifi 2022.12.7\n",
            "    Uninstalling certifi-2022.12.7:\n",
            "      Successfully uninstalled certifi-2022.12.7\n",
            "  Attempting uninstall: requests\n",
            "    Found existing installation: requests 2.25.1\n",
            "    Uninstalling requests-2.25.1:\n",
            "      Successfully uninstalled requests-2.25.1\n",
            "  Attempting uninstall: jinja2\n",
            "    Found existing installation: Jinja2 3.1.2\n",
            "    Uninstalling Jinja2-3.1.2:\n",
            "      Successfully uninstalled Jinja2-3.1.2\n",
            "  Attempting uninstall: torch\n",
            "    Found existing installation: torch 1.13.1+cu116\n",
            "    Uninstalling torch-1.13.1+cu116:\n",
            "      Successfully uninstalled torch-1.13.1+cu116\n",
            "  Attempting uninstall: torchvision\n",
            "    Found existing installation: torchvision 0.14.1+cu116\n",
            "    Uninstalling torchvision-0.14.1+cu116:\n",
            "      Successfully uninstalled torchvision-0.14.1+cu116\n",
            "  Attempting uninstall: torchaudio\n",
            "    Found existing installation: torchaudio 0.13.1+cu116\n",
            "    Uninstalling torchaudio-0.13.1+cu116:\n",
            "      Successfully uninstalled torchaudio-0.13.1+cu116\n",
            "\u001b[31mERROR: pip's dependency resolver does not currently take into account all the packages that are installed. This behaviour is the source of the following dependency conflicts.\n",
            "torchtext 0.14.1 requires torch==1.13.1, but you have torch 2.0.0+cu118 which is incompatible.\n",
            "numba 0.56.4 requires numpy<1.24,>=1.18, but you have numpy 1.24.1 which is incompatible.\n",
            "fastai 2.7.11 requires torch<1.14,>=1.7, but you have torch 2.0.0+cu118 which is incompatible.\u001b[0m\u001b[31m\n",
            "\u001b[0mSuccessfully installed MarkupSafe-2.1.2 certifi-2022.12.7 charset-normalizer-2.1.1 cmake-3.25.0 filelock-3.9.0 idna-3.4 jinja2-3.1.2 lit-15.0.7 mpmath-1.2.1 networkx-3.0 numpy-1.24.1 pillow-9.3.0 requests-2.28.1 sympy-1.11.1 torch-2.0.0+cu118 torchaudio-2.0.1+cu118 torchvision-0.15.1+cu118 triton-2.0.0 typing-extensions-4.4.0 urllib3-1.26.13\n"
          ]
        }
      ]
    },
    {
      "cell_type": "code",
      "source": [
        "# 以前のpreview時のpytorch2.0のインストール方法（こちらでは開発版developがインストールされてしまう）\n",
        "# !pip3 install numpy --pre torch[dynamo] --force-reinstall --extra-index-url https://download.pytorch.org/whl/nightly/cu118"
      ],
      "metadata": {
        "id": "1Im3cs8ApjVa"
      },
      "execution_count": 11,
      "outputs": []
    },
    {
      "cell_type": "markdown",
      "source": [
        "以上でPyTorchのバージョンを上げることができました\n",
        "\n",
        "**ここで一度ランタイムを再起動し、次は以下のセルから実行してください**\n"
      ],
      "metadata": {
        "id": "_-0xaJLsqjoQ"
      }
    },
    {
      "cell_type": "code",
      "source": [
        "import sys\n",
        "import torch\n",
        "\n",
        "\n",
        "# -----------------------------\n",
        "# 環境情報の確認\n",
        "# -----------------------------\n",
        "def print_program_info():\n",
        "    print(\"Pythonのバージョン：\", sys.version)\n",
        "    print(\"---------\")\n",
        "    print(\"PyTorchのバージョン：\", \n",
        "    torch.__version__)\n",
        "    print(\"GPUの枚数：\", torch.cuda.device_count())\n",
        "    global device  # 変数deviceは以降もプログラム本体で使用するのでglobal変数にしています\n",
        "    device = torch.device(\"cuda:0\" if torch.cuda.is_available() else \"cpu\")\n",
        "    print(\"device: \", device) \n",
        "\n",
        "\n",
        "# 【実行】確認\n",
        "print_program_info()"
      ],
      "metadata": {
        "colab": {
          "base_uri": "https://localhost:8080/"
        },
        "id": "qjcfARsepvjD",
        "outputId": "205760cb-8af3-4fca-9ebc-e07347ebc3f5"
      },
      "execution_count": 1,
      "outputs": [
        {
          "output_type": "stream",
          "name": "stdout",
          "text": [
            "Pythonのバージョン： 3.9.16 (main, Dec  7 2022, 01:11:51) \n",
            "[GCC 9.4.0]\n",
            "---------\n",
            "PyTorchのバージョン： 2.0.0+cu118\n",
            "GPUの枚数： 1\n",
            "device:  cuda:0\n"
          ]
        }
      ]
    },
    {
      "cell_type": "markdown",
      "source": [
        "PyTorchのバージョンが、2.0.0+cu118になりました"
      ],
      "metadata": {
        "id": "81H6Frifqu8Y"
      }
    },
    {
      "cell_type": "markdown",
      "source": [
        "PyTorch2.0で多くの方がまず使用してみたいのは、torch.compileによるモデル圧縮を実施し、訓練を高速化する方法かもしれません。\n"
      ],
      "metadata": {
        "id": "_RaTK3zIqNAT"
      }
    },
    {
      "cell_type": "markdown",
      "source": [
        "https://pytorch.org/tutorials/intermediate/torch_compile_tutorial.html"
      ],
      "metadata": {
        "id": "blXX_a6QqW9F"
      }
    },
    {
      "cell_type": "markdown",
      "source": [
        "https://colab.research.google.com/github/pytorch/tutorials/blob/gh-pages/_downloads/96ad88eb476f41a5403dcdade086afb8/torch_compile_tutorial.ipynb"
      ],
      "metadata": {
        "id": "5ixjw8LFrINI"
      }
    },
    {
      "cell_type": "code",
      "source": [
        "import torch\n",
        "\n",
        "def foo(x, y):\n",
        "    a = torch.sin(x)\n",
        "    b = torch.cos(x)\n",
        "    return a + b\n",
        "opt_foo1 = torch.compile(foo)\n",
        "print(opt_foo1(torch.randn(10, 10), torch.randn(10, 10)))"
      ],
      "metadata": {
        "colab": {
          "base_uri": "https://localhost:8080/"
        },
        "id": "e89cf_hqqWEZ",
        "outputId": "96230a49-048f-48e0-ebeb-43f17783db19"
      },
      "execution_count": 2,
      "outputs": [
        {
          "output_type": "stream",
          "name": "stdout",
          "text": [
            "tensor([[-0.0833, -0.3007,  1.1626, -0.7883, -0.1237,  1.2966, -0.1244,  0.6003,\n",
            "          1.3789,  1.3350],\n",
            "        [-0.1413,  1.4120, -0.2472,  0.8794, -0.1052,  1.1947,  0.0725,  1.3959,\n",
            "         -1.2539, -0.6160],\n",
            "        [ 0.1712,  1.3732,  1.0778,  1.3560,  0.0924, -0.3194,  0.6753,  1.2676,\n",
            "          0.9236, -0.1707],\n",
            "        [ 1.3889,  1.4142,  1.3729,  1.2027,  1.3938,  1.4045,  1.1090,  1.2603,\n",
            "          1.2826,  1.2146],\n",
            "        [ 1.2556,  0.9912,  0.2071,  0.0446,  1.4100,  1.3596,  1.3380,  1.3899,\n",
            "          0.1810,  1.2164],\n",
            "        [-1.1556,  0.9344,  1.1467,  0.1165, -0.4949,  1.4125, -0.2365,  0.0299,\n",
            "         -0.1352, -0.5817],\n",
            "        [-1.3188,  0.0799,  0.0537,  0.9777,  0.0620,  0.9841,  1.2468,  1.3848,\n",
            "          0.5070,  0.8339],\n",
            "        [ 1.3102, -0.9801,  0.1794,  0.6022,  0.9346, -0.0717,  0.7099,  1.3973,\n",
            "          0.1072, -1.3769],\n",
            "        [ 0.4601,  1.2877,  0.6924,  0.6932,  0.8779, -0.2710, -0.8476,  1.3871,\n",
            "          0.6944,  1.4070],\n",
            "        [ 1.3974,  1.4123,  0.7312,  0.8350, -0.8301,  1.3281,  1.1816,  0.7959,\n",
            "         -1.3473,  1.3694]])\n"
          ]
        }
      ]
    },
    {
      "cell_type": "markdown",
      "source": [
        "PyTorch1系では通らなかった、torch.compile()が通りました。\n",
        "\n",
        "以下はモデルに対して、compileする方法です"
      ],
      "metadata": {
        "id": "2I-lxnKxtbkM"
      }
    },
    {
      "cell_type": "code",
      "source": [
        "class MyModule(torch.nn.Module):\n",
        "    def __init__(self):\n",
        "        super().__init__()\n",
        "        self.lin = torch.nn.Linear(100, 10)\n",
        "\n",
        "    def forward(self, x):\n",
        "        return torch.nn.functional.relu(self.lin(x))\n",
        "\n",
        "mod = MyModule()\n",
        "opt_mod = torch.compile(mod)\n",
        "print(opt_mod(torch.randn(10, 100)))"
      ],
      "metadata": {
        "colab": {
          "base_uri": "https://localhost:8080/"
        },
        "id": "fA37DnjNkQ-y",
        "outputId": "8bf53682-56d1-45c0-8230-c105ea1bb319"
      },
      "execution_count": 3,
      "outputs": [
        {
          "output_type": "stream",
          "name": "stdout",
          "text": [
            "tensor([[0.0000, 0.0000, 0.2456, 0.8915, 0.0000, 0.2584, 0.0000, 0.1341, 0.6217,\n",
            "         0.4693],\n",
            "        [0.0000, 0.0000, 0.1534, 0.2163, 0.0000, 0.0000, 0.4827, 0.2310, 1.5004,\n",
            "         0.4599],\n",
            "        [0.8601, 0.0000, 0.0000, 0.0000, 1.3399, 0.0000, 0.0000, 0.0000, 0.2627,\n",
            "         0.0000],\n",
            "        [0.0000, 0.1622, 0.9919, 0.0000, 1.0553, 0.0000, 0.0000, 0.0000, 0.1071,\n",
            "         0.0000],\n",
            "        [0.0000, 0.0000, 0.0000, 0.0000, 0.0000, 0.0000, 0.0000, 0.4840, 0.0000,\n",
            "         0.0000],\n",
            "        [0.0000, 0.0000, 0.0000, 0.0000, 0.0000, 0.0000, 0.0000, 0.0000, 0.0000,\n",
            "         0.7314],\n",
            "        [0.2096, 0.0000, 0.0000, 0.2712, 0.0000, 0.0000, 0.0000, 0.0000, 0.5114,\n",
            "         0.0000],\n",
            "        [1.2676, 0.0000, 1.6907, 0.1695, 1.9574, 0.0283, 0.0000, 0.2504, 0.0000,\n",
            "         0.0000],\n",
            "        [0.0000, 0.0000, 1.2184, 0.8391, 0.3813, 1.9803, 0.0000, 0.0000, 0.6754,\n",
            "         0.0000],\n",
            "        [0.0000, 0.4989, 0.0000, 0.0000, 0.0000, 0.2872, 0.5779, -0.0000, 0.4613,\n",
            "         1.1647]], grad_fn=<CompiledFunctionBackward>)\n"
          ]
        }
      ]
    },
    {
      "cell_type": "markdown",
      "source": [
        "PyTorch 2.0からのtorch.compile()が無事動作しました"
      ],
      "metadata": {
        "id": "SrqFh0fUrNar"
      }
    },
    {
      "cell_type": "markdown",
      "source": [
        "# 以上"
      ],
      "metadata": {
        "id": "sIDDTkUVrUJb"
      }
    }
  ]
}